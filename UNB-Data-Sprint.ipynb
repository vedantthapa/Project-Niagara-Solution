{
 "cells": [
  {
   "cell_type": "markdown",
   "id": "328c2560",
   "metadata": {},
   "source": [
    "# Project Niagara\n",
    "The ever-dynamic Asian telecommunication industry is facing stiff competition amongst\n",
    "service providers with rapid introduction of innovative features and services such as airtime\n",
    "transfer, data sharing, mobile money, location aware apps, advanced social networking, and\n",
    "several OTT services. Fast growing telecom market in developing Asian countries is primarily\n",
    "a prepaid connections market. Among the various ways to reload a prepaid mobile phone\n",
    "through a refill card, online bank transfer, electronic reload at convenient store etc. peer to\n",
    "peer airtime transfer is emerging as a popular option. Peer to peer transfer involves a\n",
    "subscriber A transfer a part of their balance to subscriber B which can then be used for data,\n",
    "SMS, or voice call."
   ]
  },
  {
   "cell_type": "markdown",
   "id": "a96a4592",
   "metadata": {},
   "source": [
    "### Challenge\n",
    "The airtime transfer can be done in two ways: direct transfer and accepting a request for a\n",
    "transfer. Direct transfer involves a subscriber A initiating a transfer directly to subscriber B.\n",
    "Request transfer involves subscriber B raising a request for a certain amount from subscriber\n",
    "A and then subscriber A either accepts or rejects the transfer request. Typically, the transfer is\n",
    "done through an SMS in a specific format to a toll-free number. Many a times the transfer\n",
    "fails for variety of reasons such as incorrect amount (Only integer amount of $1 - $25 is\n",
    "allowed), incorrect mobile number, sending airtime to a post postpaid number, technical\n",
    "glitches etc. <b>The objective of this data challenge is to characterize the users and identify\n",
    "the drivers of airtime transfer to enhance the count and value of successful transactions.</b>"
   ]
  },
  {
   "cell_type": "code",
   "execution_count": 1,
   "id": "9993add3",
   "metadata": {
    "ExecuteTime": {
     "end_time": "2021-11-26T17:34:20.378028Z",
     "start_time": "2021-11-26T17:34:19.253283Z"
    }
   },
   "outputs": [],
   "source": [
    "import pandas as pd\n",
    "import numpy as np\n",
    "import matplotlib.pyplot as plt\n",
    "import seaborn as sns\n",
    "import sys\n",
    "\n",
    "from tqdm.notebook import tqdm\n",
    "from scipy.stats.stats import pearsonr\n",
    "from sklearn import cluster, preprocessing, metrics, model_selection, tree\n",
    "from bioinfokit.analys import stat"
   ]
  },
  {
   "cell_type": "code",
   "execution_count": 2,
   "id": "5f9b2130",
   "metadata": {
    "ExecuteTime": {
     "end_time": "2021-11-26T17:34:46.301880Z",
     "start_time": "2021-11-26T17:34:20.379021Z"
    }
   },
   "outputs": [],
   "source": [
    "df = pd.read_csv('data/Sprint Data Set.csv')"
   ]
  },
  {
   "cell_type": "code",
   "execution_count": 3,
   "id": "5284179a",
   "metadata": {
    "ExecuteTime": {
     "end_time": "2021-11-26T17:34:46.308333Z",
     "start_time": "2021-11-26T17:34:46.304239Z"
    }
   },
   "outputs": [],
   "source": [
    "# makes indexing easier\n",
    "df.columns = [i.lower() for i in df.columns]"
   ]
  },
  {
   "cell_type": "markdown",
   "id": "aeff56bc",
   "metadata": {},
   "source": [
    "Let's start by dividing the columns into meta data (transactions) and customer data to avoid confusion."
   ]
  },
  {
   "cell_type": "code",
   "execution_count": 4,
   "id": "c62bc9a3",
   "metadata": {
    "ExecuteTime": {
     "end_time": "2021-11-26T17:34:46.644131Z",
     "start_time": "2021-11-26T17:34:46.310330Z"
    }
   },
   "outputs": [],
   "source": [
    "cust_df = pd.DataFrame()\n",
    "cust_df['uid'] = df.uid\n",
    "cust_df['cnt_uid'] = df.cnt_uid\n",
    "cust_df['activedays'] = df.activedays\n",
    "cust_df['total_amt'] = df.total_amount"
   ]
  },
  {
   "cell_type": "code",
   "execution_count": 5,
   "id": "1b7066a0",
   "metadata": {
    "ExecuteTime": {
     "end_time": "2021-11-26T17:34:48.071176Z",
     "start_time": "2021-11-26T17:34:46.644911Z"
    }
   },
   "outputs": [],
   "source": [
    "transaction_cols = [i for i in df.columns if 'mn' in i]\n",
    "transactions_df = df.loc[:, ['uid'] + transaction_cols[8:]]"
   ]
  },
  {
   "cell_type": "markdown",
   "id": "d52c8861",
   "metadata": {},
   "source": [
    "Also, since the data was collected in a real-time environment, there are a few cases where there are inconsistencies in the columns like `tx` and `success` which indicate the total number of transactions and total number of successful transactions respectively. Therefore, these columns are re-calculated from the rest of the data provided\n",
    "\n",
    "*Note: This information was verified by the moderator of the competition.*"
   ]
  },
  {
   "cell_type": "code",
   "execution_count": 6,
   "id": "86982a86",
   "metadata": {
    "ExecuteTime": {
     "end_time": "2021-11-26T17:34:49.097201Z",
     "start_time": "2021-11-26T17:34:48.073310Z"
    }
   },
   "outputs": [],
   "source": [
    "cust_df['tx'] = transactions_df.iloc[:,1:9].sum(axis=1)\n",
    "cust_df['suc_tx'] = transactions_df.iloc[:,17:].sum(axis=1)"
   ]
  },
  {
   "cell_type": "markdown",
   "id": "178f0ec1",
   "metadata": {},
   "source": [
    "We start by investigating the transaction data, firstly let's check whether there are any users who don't have a single successful transaction"
   ]
  },
  {
   "cell_type": "code",
   "execution_count": 7,
   "id": "f5990271",
   "metadata": {
    "ExecuteTime": {
     "end_time": "2021-11-26T17:34:49.514155Z",
     "start_time": "2021-11-26T17:34:49.098716Z"
    }
   },
   "outputs": [
    {
     "data": {
      "text/plain": [
       "0.37119894148277777"
      ]
     },
     "execution_count": 7,
     "metadata": {},
     "output_type": "execute_result"
    }
   ],
   "source": [
    "cust_df[cust_df.suc_tx == 0].shape[0] / cust_df.shape[0]"
   ]
  },
  {
   "cell_type": "markdown",
   "id": "8aaa84e6",
   "metadata": {},
   "source": [
    "Interestingly, 37% users don't even have a single successful transaction"
   ]
  },
  {
   "cell_type": "markdown",
   "id": "7047e1ab",
   "metadata": {},
   "source": [
    "Since, the customer-level transaction data is given for a period of 8 months, it would be interesting to see the month-wise trend in the data. This calculation is a bit complex and involves grouping and slicing operations."
   ]
  },
  {
   "cell_type": "markdown",
   "id": "a51e5e25",
   "metadata": {},
   "source": [
    "Here's a look at the table"
   ]
  },
  {
   "cell_type": "code",
   "execution_count": 88,
   "id": "99c7e93c",
   "metadata": {
    "ExecuteTime": {
     "end_time": "2021-11-26T18:48:00.335807Z",
     "start_time": "2021-11-26T18:47:57.878334Z"
    }
   },
   "outputs": [],
   "source": [
    "suc_cols = transactions_df.iloc[:,17:].columns\n",
    "\n",
    "tx_mn = transactions_df[suc_cols].sum().reset_index(name='cnt')\n",
    "tx_mn['tx_type'] = tx_mn['index'].apply(lambda x: x.split('_')[1])\n",
    "tx_mn['month'] = tx_mn['index'].apply(lambda x: x.split('n')[1])"
   ]
  },
  {
   "cell_type": "code",
   "execution_count": 89,
   "id": "4bf0a6ca",
   "metadata": {
    "ExecuteTime": {
     "end_time": "2021-11-26T18:48:00.344526Z",
     "start_time": "2021-11-26T18:48:00.337459Z"
    }
   },
   "outputs": [],
   "source": [
    "tx_mn = tx_mn.groupby(['tx_type', 'month'])['cnt'].sum().unstack('tx_type')"
   ]
  },
  {
   "cell_type": "code",
   "execution_count": 90,
   "id": "7353f074",
   "metadata": {
    "ExecuteTime": {
     "end_time": "2021-11-26T18:48:00.350190Z",
     "start_time": "2021-11-26T18:48:00.345224Z"
    }
   },
   "outputs": [
    {
     "data": {
      "text/html": [
       "<div>\n",
       "<style scoped>\n",
       "    .dataframe tbody tr th:only-of-type {\n",
       "        vertical-align: middle;\n",
       "    }\n",
       "\n",
       "    .dataframe tbody tr th {\n",
       "        vertical-align: top;\n",
       "    }\n",
       "\n",
       "    .dataframe thead th {\n",
       "        text-align: right;\n",
       "    }\n",
       "</style>\n",
       "<table border=\"1\" class=\"dataframe\">\n",
       "  <thead>\n",
       "    <tr style=\"text-align: right;\">\n",
       "      <th>tx_type</th>\n",
       "      <th>ra</th>\n",
       "      <th>rb</th>\n",
       "      <th>ta</th>\n",
       "      <th>tb</th>\n",
       "    </tr>\n",
       "    <tr>\n",
       "      <th>month</th>\n",
       "      <th></th>\n",
       "      <th></th>\n",
       "      <th></th>\n",
       "      <th></th>\n",
       "    </tr>\n",
       "  </thead>\n",
       "  <tbody>\n",
       "    <tr>\n",
       "      <th>1</th>\n",
       "      <td>634246</td>\n",
       "      <td>634246</td>\n",
       "      <td>7372594</td>\n",
       "      <td>7373422</td>\n",
       "    </tr>\n",
       "    <tr>\n",
       "      <th>2</th>\n",
       "      <td>507185</td>\n",
       "      <td>507184</td>\n",
       "      <td>6342612</td>\n",
       "      <td>6343615</td>\n",
       "    </tr>\n",
       "    <tr>\n",
       "      <th>3</th>\n",
       "      <td>538862</td>\n",
       "      <td>538862</td>\n",
       "      <td>6759832</td>\n",
       "      <td>6760975</td>\n",
       "    </tr>\n",
       "    <tr>\n",
       "      <th>4</th>\n",
       "      <td>490808</td>\n",
       "      <td>490807</td>\n",
       "      <td>6034889</td>\n",
       "      <td>6035866</td>\n",
       "    </tr>\n",
       "    <tr>\n",
       "      <th>5</th>\n",
       "      <td>478420</td>\n",
       "      <td>478418</td>\n",
       "      <td>6081518</td>\n",
       "      <td>6082517</td>\n",
       "    </tr>\n",
       "    <tr>\n",
       "      <th>6</th>\n",
       "      <td>405210</td>\n",
       "      <td>405210</td>\n",
       "      <td>5340496</td>\n",
       "      <td>5341387</td>\n",
       "    </tr>\n",
       "    <tr>\n",
       "      <th>7</th>\n",
       "      <td>406012</td>\n",
       "      <td>407809</td>\n",
       "      <td>5246627</td>\n",
       "      <td>5248129</td>\n",
       "    </tr>\n",
       "    <tr>\n",
       "      <th>8</th>\n",
       "      <td>52292</td>\n",
       "      <td>52528</td>\n",
       "      <td>673933</td>\n",
       "      <td>674155</td>\n",
       "    </tr>\n",
       "  </tbody>\n",
       "</table>\n",
       "</div>"
      ],
      "text/plain": [
       "tx_type      ra      rb       ta       tb\n",
       "month                                    \n",
       "1        634246  634246  7372594  7373422\n",
       "2        507185  507184  6342612  6343615\n",
       "3        538862  538862  6759832  6760975\n",
       "4        490808  490807  6034889  6035866\n",
       "5        478420  478418  6081518  6082517\n",
       "6        405210  405210  5340496  5341387\n",
       "7        406012  407809  5246627  5248129\n",
       "8         52292   52528   673933   674155"
      ]
     },
     "execution_count": 90,
     "metadata": {},
     "output_type": "execute_result"
    }
   ],
   "source": [
    "tx_mn"
   ]
  },
  {
   "cell_type": "markdown",
   "id": "7965ed41",
   "metadata": {},
   "source": [
    "Now for the trend"
   ]
  },
  {
   "cell_type": "code",
   "execution_count": 91,
   "id": "10490d86",
   "metadata": {
    "ExecuteTime": {
     "end_time": "2021-11-26T18:48:00.504647Z",
     "start_time": "2021-11-26T18:48:00.351336Z"
    }
   },
   "outputs": [
    {
     "data": {
      "image/png": "[encoded data removed]",
      "text/plain": [
       "<Figure size 864x432 with 2 Axes>"
      ]
     },
     "metadata": {
      "needs_background": "light"
     },
     "output_type": "display_data"
    }
   ],
   "source": [
    "fig, ax = plt.subplots(figsize=(12, 6))\n",
    "ax1 = ax.twinx()\n",
    "\n",
    "p1 = ax.plot(tx_mn.ta, data=tx_mn, marker='', markersize=15, color='olive', linewidth=2, \n",
    "             linestyle='dashed', label='Direct Transfer Sent')\n",
    "p2 = ax.plot(tx_mn.tb, data=tx_mn, marker='o', color='blue', linewidth=2, \n",
    "             alpha=.25, label='Direct Transfer Received')\n",
    "\n",
    "p3 = ax1.plot(tx_mn.ra, data=tx_mn, marker='', color='green', linewidth=2, \n",
    "              linestyle=':', label='Request Transfer Sent')\n",
    "p4 = ax1.plot(tx_mn.rb, data=tx_mn, marker='*', markersize=15, color='red', \n",
    "              linewidth=2, alpha=.3, label='Request Transfer Received')\n",
    "\n",
    "lns = p1 + p2 + p3 + p4\n",
    "labs = [l.get_label() for l in lns]\n",
    "ax.legend(lns, labs, loc=[.2,.3])\n",
    "\n",
    "plt.title('Trend in transfers by month');\n",
    "ax.set_xlabel('Months');\n",
    "\n",
    "plt.savefig('assets/month-trend-fig1.jpeg', bbox_inches='tight')"
   ]
  },
  {
   "cell_type": "markdown",
   "id": "7a9acd10",
   "metadata": {},
   "source": [
    "Overall there is a decreasing trend in the number of transactions across months"
   ]
  },
  {
   "cell_type": "markdown",
   "id": "5a45f1ae",
   "metadata": {},
   "source": [
    "Previously created table would also help us determine what proportion of transactions are successful"
   ]
  },
  {
   "cell_type": "code",
   "execution_count": 12,
   "id": "d8ee5db8",
   "metadata": {
    "ExecuteTime": {
     "end_time": "2021-11-26T17:21:21.664165Z",
     "start_time": "2021-11-26T17:21:21.661830Z"
    }
   },
   "outputs": [],
   "source": [
    "tx_mn['suc_tx'] = tx_mn.sum(axis=1)"
   ]
  },
  {
   "cell_type": "code",
   "execution_count": 13,
   "id": "caaab045",
   "metadata": {
    "ExecuteTime": {
     "end_time": "2021-11-26T17:21:21.760959Z",
     "start_time": "2021-11-26T17:21:21.665191Z"
    }
   },
   "outputs": [
    {
     "data": {
      "text/plain": [
       "0.2586547689367111"
      ]
     },
     "execution_count": 13,
     "metadata": {},
     "output_type": "execute_result"
    }
   ],
   "source": [
    "total_tx = transactions_df.iloc[:,1:9].sum()\n",
    "tx_mn.suc_tx.sum() / total_tx.sum()"
   ]
  },
  {
   "cell_type": "markdown",
   "id": "d222bb5a",
   "metadata": {},
   "source": [
    "On average, only 1 in 4 transactions is successful "
   ]
  },
  {
   "cell_type": "markdown",
   "id": "eb6add72",
   "metadata": {},
   "source": [
    "Let's also have a look at the proportion of direct and request transfers in our dataset"
   ]
  },
  {
   "cell_type": "code",
   "execution_count": 16,
   "id": "4a54c0aa",
   "metadata": {
    "ExecuteTime": {
     "end_time": "2021-11-26T15:28:25.107033Z",
     "start_time": "2021-11-26T15:28:25.096186Z"
    }
   },
   "outputs": [],
   "source": [
    "tx_mn.columns = ['sent_rqtx', 'rec_rqtx', 'sent_dttx', 'rec_dttx', 'suc_tx']\n",
    "tx_mn['dtx_total'] = tx_mn['sent_dttx'] + tx_mn['rec_dttx']\n",
    "tx_mn['rqtx_total'] = tx_mn['sent_rqtx'] + tx_mn['rec_rqtx']"
   ]
  },
  {
   "cell_type": "code",
   "execution_count": 17,
   "id": "7953e70c",
   "metadata": {
    "ExecuteTime": {
     "end_time": "2021-11-26T15:28:25.291400Z",
     "start_time": "2021-11-26T15:28:25.281430Z"
    }
   },
   "outputs": [
    {
     "data": {
      "text/plain": [
       "array([0.9258175, 0.0741825])"
      ]
     },
     "execution_count": 17,
     "metadata": {},
     "output_type": "execute_result"
    }
   ],
   "source": [
    "(tx_mn.dtx_total.sum(), tx_mn.rqtx_total.sum()) / tx_mn.suc_tx.sum()"
   ]
  },
  {
   "cell_type": "markdown",
   "id": "cfe6e64c",
   "metadata": {},
   "source": [
    "Here the values denote number of direct and request transfers respectively. Large proportion of customers prefer direct transfers over request transfers"
   ]
  },
  {
   "cell_type": "markdown",
   "id": "c2ac9474",
   "metadata": {},
   "source": [
    "Now that we understand the customer transactions better, let's have a look at the customer table and analyze if there's any relationship between the variables. More specifically we're aiming to see if any linear relationship exists among the columns."
   ]
  },
  {
   "cell_type": "code",
   "execution_count": 83,
   "id": "807729d7",
   "metadata": {
    "ExecuteTime": {
     "end_time": "2021-11-26T18:42:32.346259Z",
     "start_time": "2021-11-26T18:42:30.961660Z"
    }
   },
   "outputs": [
    {
     "data": {
      "image/png": "[encoded data removed]",
      "text/plain": [
       "<Figure size 864x576 with 2 Axes>"
      ]
     },
     "metadata": {
      "needs_background": "light"
     },
     "output_type": "display_data"
    }
   ],
   "source": [
    "plt.figure(figsize=(12,8));\n",
    "sns.heatmap(cust_df.iloc[:, 1:].corr(), annot=True);\n",
    "\n",
    "plt.savefig('assets/cust-corr-fig2.jpeg', bbox_inches='tight')"
   ]
  },
  {
   "cell_type": "code",
   "execution_count": 19,
   "id": "a42b214c",
   "metadata": {
    "ExecuteTime": {
     "end_time": "2021-11-26T15:45:52.830381Z",
     "start_time": "2021-11-26T15:45:52.563375Z"
    }
   },
   "outputs": [
    {
     "data": {
      "text/plain": [
       "(0.7827031132599644, 0.0)"
      ]
     },
     "execution_count": 19,
     "metadata": {},
     "output_type": "execute_result"
    }
   ],
   "source": [
    "pearsonr(cust_df.suc_tx, cust_df.total_amt)"
   ]
  },
  {
   "cell_type": "markdown",
   "id": "ff7c7261",
   "metadata": {},
   "source": [
    "- The above values indicate the correlation between successful transactions and the total amount transferred for a particular customer, and its corresponding p-value respectively. The values indicate that there is a significantly strong positive correlation between these columns.\n",
    "\n",
    "- Also, from the heatmap it can be observed that majority of the transactions involve new people as `cnt_uid` column has a positive correlation with the total number of transactions."
   ]
  },
  {
   "cell_type": "markdown",
   "id": "f4ed2641",
   "metadata": {},
   "source": [
    "Let's characterize the users using clustering. More specifically using KMeans clustering methodology. It is crucial to normalize the columns during preprocessing due to different scales, as KMeans is a distance-based algorithm"
   ]
  },
  {
   "cell_type": "code",
   "execution_count": 84,
   "id": "ccb7d96e",
   "metadata": {
    "ExecuteTime": {
     "end_time": "2021-11-26T18:42:37.095058Z",
     "start_time": "2021-11-26T18:42:36.622013Z"
    }
   },
   "outputs": [
    {
     "data": {
      "text/plain": [
       "(9371600, 6)"
      ]
     },
     "execution_count": 84,
     "metadata": {},
     "output_type": "execute_result"
    }
   ],
   "source": [
    "scaler = preprocessing.MinMaxScaler()\n",
    "scaled_arr = scaler.fit_transform(cust_df)\n",
    "\n",
    "scaled_arr.shape"
   ]
  },
  {
   "cell_type": "code",
   "execution_count": 85,
   "id": "67b29acc",
   "metadata": {
    "ExecuteTime": {
     "end_time": "2021-11-26T18:42:37.107248Z",
     "start_time": "2021-11-26T18:42:37.095980Z"
    }
   },
   "outputs": [],
   "source": [
    "scaled_df = pd.DataFrame(scaled_arr, columns=cust_df.columns)"
   ]
  },
  {
   "cell_type": "markdown",
   "id": "41c0664b",
   "metadata": {},
   "source": [
    "We use elbow-plot to determine the optimal number of clusters for KMeans"
   ]
  },
  {
   "cell_type": "code",
   "execution_count": 86,
   "id": "18218377",
   "metadata": {
    "ExecuteTime": {
     "end_time": "2021-11-26T18:46:57.353842Z",
     "start_time": "2021-11-26T18:43:39.053944Z"
    }
   },
   "outputs": [
    {
     "data": {
      "application/vnd.jupyter.widget-view+json": {
       "model_id": "c087ff11d3244113a8d682fca6a12451",
       "version_major": 2,
       "version_minor": 0
      },
      "text/plain": [
       "  0%|          | 0/10 [00:00<?, ?it/s]"
      ]
     },
     "metadata": {},
     "output_type": "display_data"
    },
    {
     "data": {
      "image/png": "[encoded data removed]",
      "text/plain": [
       "<Figure size 576x432 with 1 Axes>"
      ]
     },
     "metadata": {
      "needs_background": "light"
     },
     "output_type": "display_data"
    }
   ],
   "source": [
    "cs = []\n",
    "\n",
    "values = range(1, 11)\n",
    "with tqdm(total=len(values), file=sys.stdout) as pbar:\n",
    "    for i in values:\n",
    "        pbar.set_description(f\"processing k={i}\")\n",
    "        pbar.update()\n",
    "        \n",
    "        kmeans = cluster.KMeans(n_clusters=i, max_iter=300, n_init=10, random_state=42)\n",
    "        kmeans.fit(scaled_df.iloc[:, 1:])\n",
    "        cs.append(kmeans.inertia_)\n",
    "\n",
    "plt.figure(figsize=(8, 6))\n",
    "plt.plot(range(1, 11), cs)\n",
    "plt.title('The Elbow Method', fontsize=16)\n",
    "plt.xlabel('Number of clusters', fontsize=12)\n",
    "plt.ylabel('CS', fontsize=12)\n",
    "\n",
    "plt.savefig('assets/optimal-cluster-fig3.jpeg', bbox_inches='tight')"
   ]
  },
  {
   "cell_type": "markdown",
   "id": "cd596777",
   "metadata": {},
   "source": [
    "We observe from the above plot that 3 would be the optimal number of clusters for our case."
   ]
  },
  {
   "cell_type": "markdown",
   "id": "6c659f80",
   "metadata": {},
   "source": [
    "Fitting the algorithm..."
   ]
  },
  {
   "cell_type": "code",
   "execution_count": 93,
   "id": "de49973f",
   "metadata": {
    "ExecuteTime": {
     "end_time": "2021-11-26T19:25:58.477611Z",
     "start_time": "2021-11-26T19:25:47.506133Z"
    }
   },
   "outputs": [
    {
     "data": {
      "text/plain": [
       "KMeans(n_clusters=3, random_state=42)"
      ]
     },
     "execution_count": 93,
     "metadata": {},
     "output_type": "execute_result"
    }
   ],
   "source": [
    "kmeans = cluster.KMeans(n_clusters=3, random_state=42) \n",
    "kmeans.fit(scaled_df.iloc[:,1:])"
   ]
  },
  {
   "cell_type": "code",
   "execution_count": 94,
   "id": "874ba7dc",
   "metadata": {
    "ExecuteTime": {
     "end_time": "2021-11-26T19:25:58.489973Z",
     "start_time": "2021-11-26T19:25:58.479002Z"
    }
   },
   "outputs": [],
   "source": [
    "cust_df['cluster'] = kmeans.labels_\n",
    "scaled_df['cluster'] = kmeans.labels_"
   ]
  },
  {
   "cell_type": "code",
   "execution_count": 95,
   "id": "e3ee24e3",
   "metadata": {
    "ExecuteTime": {
     "end_time": "2021-11-26T19:25:58.523455Z",
     "start_time": "2021-11-26T19:25:58.490766Z"
    }
   },
   "outputs": [
    {
     "data": {
      "text/plain": [
       "0    0.473282\n",
       "1    0.357523\n",
       "2    0.169195\n",
       "Name: cluster, dtype: float64"
      ]
     },
     "execution_count": 95,
     "metadata": {},
     "output_type": "execute_result"
    }
   ],
   "source": [
    "cust_df.cluster.value_counts(normalize=True)"
   ]
  },
  {
   "cell_type": "markdown",
   "id": "fff2f004",
   "metadata": {},
   "source": [
    "Here's a look at the clusters and its characterics for different columns"
   ]
  },
  {
   "cell_type": "code",
   "execution_count": 25,
   "id": "a7aeda14",
   "metadata": {
    "ExecuteTime": {
     "end_time": "2021-11-26T15:46:37.836925Z",
     "start_time": "2021-11-26T15:46:37.029689Z"
    }
   },
   "outputs": [
    {
     "data": {
      "text/html": [
       "<div>\n",
       "<style scoped>\n",
       "    .dataframe tbody tr th:only-of-type {\n",
       "        vertical-align: middle;\n",
       "    }\n",
       "\n",
       "    .dataframe tbody tr th {\n",
       "        vertical-align: top;\n",
       "    }\n",
       "\n",
       "    .dataframe thead th {\n",
       "        text-align: right;\n",
       "    }\n",
       "</style>\n",
       "<table border=\"1\" class=\"dataframe\">\n",
       "  <thead>\n",
       "    <tr style=\"text-align: right;\">\n",
       "      <th></th>\n",
       "      <th>cnt_uid</th>\n",
       "      <th>activedays</th>\n",
       "      <th>total_amt</th>\n",
       "      <th>tx</th>\n",
       "      <th>suc_tx</th>\n",
       "    </tr>\n",
       "    <tr>\n",
       "      <th>cluster</th>\n",
       "      <th></th>\n",
       "      <th></th>\n",
       "      <th></th>\n",
       "      <th></th>\n",
       "      <th></th>\n",
       "    </tr>\n",
       "  </thead>\n",
       "  <tbody>\n",
       "    <tr>\n",
       "      <th>0</th>\n",
       "      <td>4.327881</td>\n",
       "      <td>7.333546</td>\n",
       "      <td>6.427707</td>\n",
       "      <td>4.325501</td>\n",
       "      <td>1.112377</td>\n",
       "    </tr>\n",
       "    <tr>\n",
       "      <th>1</th>\n",
       "      <td>92.512831</td>\n",
       "      <td>193.516409</td>\n",
       "      <td>55.570050</td>\n",
       "      <td>91.677877</td>\n",
       "      <td>23.953850</td>\n",
       "    </tr>\n",
       "    <tr>\n",
       "      <th>2</th>\n",
       "      <td>25.305886</td>\n",
       "      <td>96.190044</td>\n",
       "      <td>20.740651</td>\n",
       "      <td>25.179140</td>\n",
       "      <td>6.021600</td>\n",
       "    </tr>\n",
       "  </tbody>\n",
       "</table>\n",
       "</div>"
      ],
      "text/plain": [
       "           cnt_uid  activedays  total_amt         tx     suc_tx\n",
       "cluster                                                        \n",
       "0         4.327881    7.333546   6.427707   4.325501   1.112377\n",
       "1        92.512831  193.516409  55.570050  91.677877  23.953850\n",
       "2        25.305886   96.190044  20.740651  25.179140   6.021600"
      ]
     },
     "execution_count": 25,
     "metadata": {},
     "output_type": "execute_result"
    }
   ],
   "source": [
    "df_mean = cust_df.groupby('cluster')[scaled_df.columns[1:-1]].mean()\n",
    "df_mean"
   ]
  },
  {
   "cell_type": "markdown",
   "id": "5d7db211",
   "metadata": {},
   "source": [
    "The clusters are quite different from each other with respect to the mean value of the features. However let's check if these differences are significant using ANOVA"
   ]
  },
  {
   "cell_type": "code",
   "execution_count": 186,
   "id": "5c7797f2",
   "metadata": {
    "ExecuteTime": {
     "end_time": "2021-11-19T14:32:26.766824Z",
     "start_time": "2021-11-19T14:29:40.732368Z"
    }
   },
   "outputs": [
    {
     "data": {
      "application/vnd.jupyter.widget-view+json": {
       "model_id": "64f914f29e1146168070413bcf850bed",
       "version_major": 2,
       "version_minor": 0
      },
      "text/plain": [
       "  0%|          | 0/5 [00:00<?, ?it/s]"
      ]
     },
     "metadata": {},
     "output_type": "display_data"
    },
    {
     "name": "stdout",
     "output_type": "stream",
     "text": [
      "\u001b[1m Col = cnt_uid \u001b[0m\n",
      "                   df        sum_sq       mean_sq             F  PR(>F)\n",
      "C(cluster)        2.0  1.522260e+10  7.611302e+09  47570.489501     0.0\n",
      "Residual    9371597.0  1.499460e+12  1.600005e+05           NaN     NaN\n",
      "\n",
      "   group1  group2       Diff      Lower      Upper     q-value  p-value\n",
      "0       2       0  20.978005  20.110581  21.845429   80.158685    0.001\n",
      "1       2       1  67.206945  66.303296  68.110595  246.508642    0.001\n",
      "2       0       1  88.184951  87.506381  88.863520  430.742777    0.001\n",
      "\n",
      "\n",
      "\u001b[1m Col = activedays \u001b[0m\n",
      "                   df        sum_sq       mean_sq             F  PR(>F)\n",
      "C(cluster)        2.0  6.626394e+10  3.313197e+10  9.790829e+07     0.0\n",
      "Residual    9371597.0  3.171330e+09  3.383980e+02           NaN     NaN\n",
      "\n",
      "   group1  group2        Diff       Lower       Upper       q-value  p-value\n",
      "0       2       0   88.856498   88.816606   88.896390   7382.821651    0.001\n",
      "1       2       1   97.326366   97.284808   97.367923   7762.387032    0.001\n",
      "2       0       1  186.182864  186.151657  186.214070  19774.705623    0.001\n",
      "\n",
      "\n",
      "\u001b[1m Col = total_amt \u001b[0m\n",
      "                   df        sum_sq       mean_sq              F  PR(>F)\n",
      "C(cluster)        2.0  4.670997e+09  2.335498e+09  472249.958543     0.0\n",
      "Residual    9371597.0  4.634696e+10  4.945471e+03            NaN     NaN\n",
      "\n",
      "   group1  group2       Diff      Lower      Upper      q-value  p-value\n",
      "0       2       0  14.312944  14.160442  14.465445   311.080081    0.001\n",
      "1       2       1  34.829399  34.670529  34.988270   726.642547    0.001\n",
      "2       0       1  49.142343  49.023044  49.261642  1365.325600    0.001\n",
      "\n",
      "\n",
      "\u001b[1m Col = tx \u001b[0m\n",
      "                   df        sum_sq       mean_sq             F  PR(>F)\n",
      "C(cluster)        2.0  1.493326e+10  7.466632e+09  46680.592349     0.0\n",
      "Residual    9371597.0  1.499001e+12  1.599515e+05           NaN     NaN\n",
      "\n",
      "   group1  group2       Diff      Lower      Upper     q-value  p-value\n",
      "0       2       0  20.853640  19.986348  21.720931   79.695670    0.001\n",
      "1       2       1  66.498737  65.595226  67.402248  243.948337    0.001\n",
      "2       0       1  87.352376  86.673911  88.030842  426.741347    0.001\n",
      "\n",
      "\n",
      "\u001b[1m Col = suc_tx \u001b[0m\n",
      "                   df        sum_sq       mean_sq             F  PR(>F)\n",
      "C(cluster)        2.0  1.027724e+09  5.138621e+08  1.059767e+06     0.0\n",
      "Residual    9371597.0  4.544122e+09  4.848823e+02           NaN     NaN\n",
      "\n",
      "   group1  group2       Diff      Lower      Upper      q-value  p-value\n",
      "0       2       0   4.909222   4.861471   4.956974   340.754495    0.001\n",
      "1       2       1  17.932250  17.882504  17.981996  1194.800167    0.001\n",
      "2       0       1  22.841473  22.804117  22.878828  2026.703045    0.001\n",
      "\n",
      "\n"
     ]
    }
   ],
   "source": [
    "values = cust_df.columns[1:-1]\n",
    "with tqdm(total=len(values), file=sys.stdout) as pbar:\n",
    "    for i in values:\n",
    "        pbar.set_description(f\"processing col={i}\")\n",
    "        pbar.update()\n",
    "        \n",
    "        res = stat()\n",
    "        res.anova_stat(df=cust_df, res_var=i, anova_model=f'{i} ~ C(cluster)')\n",
    "        print(f'\\033[1m Col = {i} \\033[0m')\n",
    "        print(f'{res.anova_summary}\\n')\n",
    "        \n",
    "        res.tukey_hsd(df=cust_df, res_var=i, xfac_var='cluster', anova_model=f'{i} ~ C(cluster)')\n",
    "        print(f'{res.tukey_summary}\\n\\n')"
   ]
  },
  {
   "cell_type": "markdown",
   "id": "9337304c",
   "metadata": {},
   "source": [
    "The above table shows the signifance of the difference between clusters for various columns and also shows which clusters are different from each other using Tukey's HSD Test."
   ]
  },
  {
   "cell_type": "markdown",
   "id": "5c9083bd",
   "metadata": {},
   "source": [
    "Let's move on to the second part of the problem where we determine the factors that affect the count and value of a successful transaction. \n",
    "\n",
    "We have already identified that count and value of a successful transaction are correlated therefore we exclude `total_amt` column from the analysis and build a model on the following features to study its effect on the target (num of successful transactions):\n",
    "- `cnt_uid`\n",
    "- `activedays`\n",
    "- `tx`"
   ]
  },
  {
   "cell_type": "markdown",
   "id": "b16fcf78",
   "metadata": {
    "ExecuteTime": {
     "end_time": "2021-11-26T18:23:20.596929Z",
     "start_time": "2021-11-26T18:23:20.585339Z"
    }
   },
   "source": [
    "In order to study the effect of different features on the number of successful transactions, a transaction first has to be successful. Therefore we'll subset the dataframe to include only those transactions which were successful."
   ]
  },
  {
   "cell_type": "code",
   "execution_count": 61,
   "id": "baebfedc",
   "metadata": {
    "ExecuteTime": {
     "end_time": "2021-11-26T18:25:12.222438Z",
     "start_time": "2021-11-26T18:25:11.763324Z"
    }
   },
   "outputs": [],
   "source": [
    "suc_tx = cust_df[cust_df.suc_tx > 0]"
   ]
  },
  {
   "cell_type": "markdown",
   "id": "230a99e2",
   "metadata": {},
   "source": [
    "Let's plot the distribution of our target."
   ]
  },
  {
   "cell_type": "code",
   "execution_count": 82,
   "id": "8976e688",
   "metadata": {
    "ExecuteTime": {
     "end_time": "2021-11-26T18:42:24.088054Z",
     "start_time": "2021-11-26T18:42:23.339785Z"
    }
   },
   "outputs": [
    {
     "name": "stderr",
     "output_type": "stream",
     "text": [
      "Pass the following variable as a keyword arg: x. From version 0.12, the only valid positional argument will be `data`, and passing other arguments without an explicit keyword will result in an error or misinterpretation.\n"
     ]
    },
    {
     "data": {
      "image/png": "[encoded data removed]",
      "text/plain": [
       "<Figure size 576x360 with 1 Axes>"
      ]
     },
     "metadata": {
      "needs_background": "light"
     },
     "output_type": "display_data"
    }
   ],
   "source": [
    "plt.figure(figsize=(8,5))\n",
    "sns.boxplot(suc_tx.suc_tx)\n",
    "\n",
    "plt.title('Distribution of the Target', fontsize=16)\n",
    "plt.xlabel('suc_tx', fontsize=12);\n",
    "\n",
    "plt.savefig('assets/target-dist-fig4.jpeg', bbox_inches='tight')"
   ]
  },
  {
   "cell_type": "markdown",
   "id": "fa60571b",
   "metadata": {
    "ExecuteTime": {
     "end_time": "2021-11-26T18:12:19.925078Z",
     "start_time": "2021-11-26T18:12:19.748650Z"
    }
   },
   "source": [
    "The target seems to be heavily skewed and there are a lot of outliers in the data. However, upon investigation it was found that these outliers were actual data points and not errors therefore it doesn't make sense to exlcude them from the analysis.\n",
    "\n",
    "Moreover, since the data is not normally distributed and due to lack of linear relationships between the target and the independant variables, we'll employ a tree based model."
   ]
  },
  {
   "cell_type": "markdown",
   "id": "c60bbf9f",
   "metadata": {},
   "source": [
    "Let's split the dataset into training and testing sets. Due to a huge amount of data and limited time, we'l only split the dataset into a train and test set."
   ]
  },
  {
   "cell_type": "code",
   "execution_count": 63,
   "id": "06e24627",
   "metadata": {
    "ExecuteTime": {
     "end_time": "2021-11-26T18:32:02.246062Z",
     "start_time": "2021-11-26T18:32:01.695809Z"
    }
   },
   "outputs": [],
   "source": [
    "x_train, x_test, y_train, y_test = model_selection.train_test_split(x, y, \n",
    "                                                    test_size=0.30, \n",
    "                                                    random_state=42)"
   ]
  },
  {
   "cell_type": "markdown",
   "id": "6cd5db79",
   "metadata": {},
   "source": [
    "Now, training our Decision Tree Regressor"
   ]
  },
  {
   "cell_type": "code",
   "execution_count": 64,
   "id": "d0bea93f",
   "metadata": {
    "ExecuteTime": {
     "end_time": "2021-11-26T18:32:41.578410Z",
     "start_time": "2021-11-26T18:32:38.781026Z"
    }
   },
   "outputs": [
    {
     "data": {
      "text/plain": [
       "DecisionTreeRegressor(max_depth=7, random_state=49)"
      ]
     },
     "execution_count": 64,
     "metadata": {},
     "output_type": "execute_result"
    }
   ],
   "source": [
    "dt = tree.DecisionTreeRegressor(max_depth=7, random_state=49)\n",
    "dt.fit(x_train, y_train)"
   ]
  },
  {
   "cell_type": "code",
   "execution_count": 66,
   "id": "33893f75",
   "metadata": {
    "ExecuteTime": {
     "end_time": "2021-11-26T18:32:51.837486Z",
     "start_time": "2021-11-26T18:32:51.704873Z"
    }
   },
   "outputs": [
    {
     "data": {
      "text/plain": [
       "20.63432191870685"
      ]
     },
     "execution_count": 66,
     "metadata": {},
     "output_type": "execute_result"
    }
   ],
   "source": [
    "np.sqrt(metrics.mean_squared_error(y_test, dt.predict(x_test)))"
   ]
  },
  {
   "cell_type": "markdown",
   "id": "4906d10c",
   "metadata": {},
   "source": [
    "Here's look at the feature importances"
   ]
  },
  {
   "cell_type": "code",
   "execution_count": 87,
   "id": "5904a4f3",
   "metadata": {
    "ExecuteTime": {
     "end_time": "2021-11-26T18:47:45.800666Z",
     "start_time": "2021-11-26T18:47:45.681442Z"
    }
   },
   "outputs": [
    {
     "name": "stdout",
     "output_type": "stream",
     "text": [
      "Feature: cnt_uid || Score: 0.804\n",
      "Feature: activedays || Score: 0.049\n",
      "Feature: tx || Score: 0.147\n"
     ]
    },
    {
     "data": {
      "image/png": "[encoded data removed]",
      "text/plain": [
       "<Figure size 864x360 with 1 Axes>"
      ]
     },
     "metadata": {
      "needs_background": "light"
     },
     "output_type": "display_data"
    }
   ],
   "source": [
    "importance = dt.feature_importances_\n",
    "for i,v in enumerate(importance):\n",
    "    print(f'Feature: {x_train.columns[i]} || Score: {v:.3f}')\n",
    "\n",
    "plt.figure(figsize=(12, 5))\n",
    "plt.bar([x_train.columns[i] for i in range(len(importance))], importance)\n",
    "\n",
    "plt.title('Feature Importances', fontsize=16)\n",
    "plt.xlabel('Features', fontsize=12)\n",
    "plt.ylabel('Importance', fontsize=12)\n",
    "plt.savefig('assets/feature_imp-fig5.jpeg', bbox_inches='tight')"
   ]
  },
  {
   "cell_type": "markdown",
   "id": "93e94f8a",
   "metadata": {},
   "source": [
    "Interestingly, the number of distinct persons with whom a customer has engaged is ranked highest, while the number of days a it has been active on the network is ranked lowest."
   ]
  },
  {
   "cell_type": "markdown",
   "id": "014e7273",
   "metadata": {},
   "source": [
    "### Conclusion"
   ]
  },
  {
   "cell_type": "markdown",
   "id": "0c34f6d9",
   "metadata": {},
   "source": [
    "- Cluster 1 was identified as a persona with the high value and more distinct transactions. This persona also interacts with new people more.\n",
    "- Cluster 2 consists of moderately engaged customers, an important goal for the business here would be to try to move these users into Cluster 1 by leveraging marketing efforts.\n",
    "- My first suggestion in order to drive the count and value of a successful transactions would be to improve the quality of the data by adding in features that determines the major reason behind an unsuccesful transaction.\n",
    "- Furthermore, as seen above, the value of a transaction has a strong positive correlation with the count, implying that enhancing one can boost the other.\n",
    "- Encouraging a customer to make more unique transactions will help boost the number of successful transactions, therefore enhancing the value of a transaction."
   ]
  }
 ],
 "metadata": {
  "kernelspec": {
   "display_name": "Python 3.9.7 64-bit ('base': conda)",
   "language": "python",
   "name": "python397jvsc74a57bd0c6e4e9f98eb68ad3b7c296f83d20e6de614cb42e90992a65aa266555a3137d0d"
  },
  "language_info": {
   "codemirror_mode": {
    "name": "ipython",
    "version": 3
   },
   "file_extension": ".py",
   "mimetype": "text/x-python",
   "name": "python",
   "nbconvert_exporter": "python",
   "pygments_lexer": "ipython3",
   "version": "3.9.7"
  }
 },
 "nbformat": 4,
 "nbformat_minor": 5
}
